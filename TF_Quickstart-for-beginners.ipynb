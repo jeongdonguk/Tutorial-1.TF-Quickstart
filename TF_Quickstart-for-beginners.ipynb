{
 "cells": [
  {
   "cell_type": "code",
   "execution_count": 31,
   "id": "395747fb",
   "metadata": {},
   "outputs": [],
   "source": [
    "import tensorflow as tf\n",
    "import numpy as np"
   ]
  },
  {
   "cell_type": "code",
   "execution_count": 3,
   "id": "b86e1cc7",
   "metadata": {},
   "outputs": [],
   "source": [
    "# 텐서플로우에서 제공하는 MNIST데이터를 사용하겠다\n",
    "(x_train, y_train), (x_test, y_test) = tf.keras.datasets.mnist.load_data()"
   ]
  },
  {
   "cell_type": "code",
   "execution_count": 28,
   "id": "5760ea79",
   "metadata": {},
   "outputs": [
    {
     "name": "stdout",
     "output_type": "stream",
     "text": [
      "x_train.shape :  (60000, 28, 28)\n",
      "y_train.shape :  (60000,)\n",
      "x_test.shape :  (10000, 28, 28)\n",
      "y_test.shape :  (10000,)\n"
     ]
    }
   ],
   "source": [
    "# 데이터의 로딩 완료 여부를 확인\n",
    "print('x_train.shape : ', x_train.shape)\n",
    "print('y_train.shape : ', y_train.shape)\n",
    "print('x_test.shape : ', x_test.shape)\n",
    "print('y_test.shape : ', y_test.shape)\n"
   ]
  },
  {
   "cell_type": "code",
   "execution_count": 33,
   "id": "77689393",
   "metadata": {},
   "outputs": [
    {
     "data": {
      "text/plain": [
       "array([0, 1, 2, 3, 4, 5, 6, 7, 8, 9], dtype=uint8)"
      ]
     },
     "execution_count": 33,
     "metadata": {},
     "output_type": "execute_result"
    }
   ],
   "source": [
    "# 결과 값의 종류 확인\n",
    "np.unique(y_train)"
   ]
  },
  {
   "cell_type": "code",
   "execution_count": 27,
   "id": "36e462d4",
   "metadata": {},
   "outputs": [],
   "source": [
    "# 이미지 데이터의 픽섹 범위는 0~255이므로 255로 나누어 0~1사이 범위로 변경 255.0은 샘플 데이터를 정수에서 부동소수점 숫자로 바꾸어준다.\n",
    "x_train, x_test = x_train / 255.0, x_test / 255.0\n"
   ]
  },
  {
   "cell_type": "code",
   "execution_count": 34,
   "id": "03ba09da",
   "metadata": {},
   "outputs": [],
   "source": [
    "# 모델구축\n",
    "model = tf.keras.Sequential([\n",
    "    tf.keras.layers.Flatten(input_shape=(28,28)),\n",
    "    tf.keras.layers.Dense(128, activation='relu'),\n",
    "    tf.keras.layers.Dropout(0.2),\n",
    "    tf.keras.layers.Dense(10)\n",
    "])"
   ]
  },
  {
   "cell_type": "code",
   "execution_count": 37,
   "id": "f1ab241c",
   "metadata": {},
   "outputs": [
    {
     "data": {
      "text/plain": [
       "array([[-0.02172713,  0.0395346 ,  0.07891425,  0.28208813,  0.09572585,\n",
       "         0.34163523, -0.24602148, -0.07933238, -0.4145444 ,  0.29774955]],\n",
       "      dtype=float32)"
      ]
     },
     "execution_count": 37,
     "metadata": {},
     "output_type": "execute_result"
    }
   ],
   "source": [
    "# 학습을 진행하기 전 초기 모델의 weight, bias의 값을 통해 나온 예측값\n",
    "pred = model(x_train[:1]).numpy()\n",
    "pred"
   ]
  },
  {
   "cell_type": "code",
   "execution_count": 38,
   "id": "88ecd9fb",
   "metadata": {},
   "outputs": [
    {
     "data": {
      "text/plain": [
       "array([[0.09189889, 0.09770481, 0.10162915, 0.12452473, 0.10335214,\n",
       "        0.13216503, 0.07343455, 0.08675463, 0.06204573, 0.12649031]],\n",
       "      dtype=float32)"
      ]
     },
     "execution_count": 38,
     "metadata": {},
     "output_type": "execute_result"
    }
   ],
   "source": [
    "# 해당 결과를 softmax함수를 통과 시켜서 결과를 확률로 변환한다.\n",
    "tf.nn.softmax(pred).numpy()"
   ]
  },
  {
   "cell_type": "code",
   "execution_count": 40,
   "id": "2bd0bb1d",
   "metadata": {},
   "outputs": [
    {
     "data": {
      "text/plain": [
       "2.0237038"
      ]
     },
     "execution_count": 40,
     "metadata": {},
     "output_type": "execute_result"
    }
   ],
   "source": [
    "# 학습에 사용할 loss_function 정의\n",
    "loss_fn = tf.keras.losses.SparseCategoricalCrossentropy(from_logits=True)\n",
    "# 위의 from_logits 은 현재의 모델이 sigmoid나 softmax함수를 통과한 확률값이 아니므로 True값으로 적용(확률일 경우 False)\n",
    "loss_fn(y_train[:1], pred).numpy()\n",
    "# 훈련되지 않은 모델의 초기 로스는 tf.math.log(1/10) ~= 2.3 에 가깝다."
   ]
  },
  {
   "cell_type": "code",
   "execution_count": 41,
   "id": "242b1f96",
   "metadata": {},
   "outputs": [],
   "source": [
    "# 학습을 위한 옵티마이저와 손실함수, 평가지표를 지정\n",
    "model.compile(optimizer='adam',\n",
    "             loss=loss_fn,\n",
    "             metrics=['accuracy'])"
   ]
  },
  {
   "cell_type": "code",
   "execution_count": 48,
   "id": "39566071",
   "metadata": {},
   "outputs": [
    {
     "name": "stdout",
     "output_type": "stream",
     "text": [
      "Epoch 1/2\n",
      "1875/1875 [==============================] - 6s 3ms/step - loss: 0.0376 - accuracy: 0.9871\n",
      "Epoch 2/2\n",
      "1875/1875 [==============================] - 6s 3ms/step - loss: 0.0346 - accuracy: 0.9883\n"
     ]
    },
    {
     "data": {
      "text/plain": [
       "<keras.callbacks.History at 0x1db12709ee0>"
      ]
     },
     "execution_count": 48,
     "metadata": {},
     "output_type": "execute_result"
    }
   ],
   "source": [
    "# 모델을 2번만 학습시킨다\n",
    "model.fit(x_train, y_train, epochs=2)\n"
   ]
  },
  {
   "cell_type": "code",
   "execution_count": 49,
   "id": "5ee83235",
   "metadata": {},
   "outputs": [
    {
     "name": "stdout",
     "output_type": "stream",
     "text": [
      "313/313 [==============================] - 1s 2ms/step - loss: 0.0862 - accuracy: 0.9796\n"
     ]
    },
    {
     "data": {
      "text/plain": [
       "[0.08623508363962173, 0.9796000123023987]"
      ]
     },
     "execution_count": 49,
     "metadata": {},
     "output_type": "execute_result"
    }
   ],
   "source": [
    "# 학습이 잘 진행되었는지 테스트 데이터를 넣어본다.\n",
    "model.evaluate(x_test, y_test)"
   ]
  }
 ],
 "metadata": {
  "kernelspec": {
   "display_name": "Python 3 (ipykernel)",
   "language": "python",
   "name": "python3"
  },
  "language_info": {
   "codemirror_mode": {
    "name": "ipython",
    "version": 3
   },
   "file_extension": ".py",
   "mimetype": "text/x-python",
   "name": "python",
   "nbconvert_exporter": "python",
   "pygments_lexer": "ipython3",
   "version": "3.9.12"
  }
 },
 "nbformat": 4,
 "nbformat_minor": 5
}
