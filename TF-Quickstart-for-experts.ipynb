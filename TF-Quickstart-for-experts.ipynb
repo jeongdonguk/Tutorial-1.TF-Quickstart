{
 "cells": [
  {
   "cell_type": "code",
   "execution_count": 1,
   "id": "44d5498f",
   "metadata": {},
   "outputs": [],
   "source": [
    "import tensorflow as tf\n",
    "from tensorflow.keras.layers import Dense, Flatten, Conv2D\n",
    "from tensorflow.keras import Model"
   ]
  },
  {
   "cell_type": "code",
   "execution_count": null,
   "id": "5604f553",
   "metadata": {},
   "outputs": [],
   "source": [
    "from tensorflow.python.client import device_lib\n",
    "device_lib.list_local_devices()"
   ]
  },
  {
   "cell_type": "code",
   "execution_count": 3,
   "id": "4fe483eb",
   "metadata": {},
   "outputs": [
    {
     "name": "stdout",
     "output_type": "stream",
     "text": [
      "(60000, 28, 28)\n",
      "(60000, 28, 28, 1)\n"
     ]
    }
   ],
   "source": [
    "# 텐서플로우에서 제공하는 MNIST데이터를 사용하겠다\n",
    "(x_train, y_train), (x_test, y_test) = tf.keras.datasets.mnist.load_data()\n",
    "# 이미지 데이터의 픽섹 범위는 0~255이므로 255로 나누어 0~1사이 범위로 변경 255.0은 샘플 데이터를 정수에서 부동소수점 숫자로 바꾸어준다.\n",
    "x_train, x_test = x_train / 255.0, x_test / 255.0\n",
    "\n",
    "#  차원 추가\n",
    "print(x_train.shape)\n",
    "x_train = x_train[..., tf.newaxis].astype('float32')\n",
    "# x_train = x_train[:500]\n",
    "# y_train = y_train[:500]\n",
    "x_test = x_test[..., tf.newaxis].astype('float32')\n",
    "print(x_train.shape)\n"
   ]
  },
  {
   "cell_type": "code",
   "execution_count": null,
   "id": "90ef89cc",
   "metadata": {},
   "outputs": [],
   "source": [
    "# x_train[:500].shape"
   ]
  },
  {
   "cell_type": "code",
   "execution_count": null,
   "id": "2deee16d",
   "metadata": {},
   "outputs": [],
   "source": [
    "x_train.shape"
   ]
  },
  {
   "cell_type": "code",
   "execution_count": 4,
   "id": "28af8658",
   "metadata": {},
   "outputs": [],
   "source": [
    "# 앞에서 shuffle에 들어가는 숫자 만큼의 데이터를 뽑은 후 랜덤 배치를 구성(배치에 사용된 만큼 뒤에 데이터를 추가하여 새로운 배치를 뽑기  반복)\n",
    "train_ds = tf.data.Dataset.from_tensor_slices(\n",
    "    (x_train, y_train)).shuffle(buffer_size=1024).batch(32)\n",
    "\n",
    "test_ds = tf.data.Dataset.from_tensor_slices(\n",
    "    (x_test, y_test)).shuffle(buffer_size=1024).batch(32)\n"
   ]
  },
  {
   "cell_type": "code",
   "execution_count": null,
   "id": "4844cb64",
   "metadata": {},
   "outputs": [],
   "source": [
    "# 위의 동작을 테스트 해보기 위한 코드\n",
    "test = tf.data.Dataset.from_tensor_slices(\n",
    "    [1,2,3,4,5,6,7,8,9]).shuffle(3).batch(5)\n",
    "for k,k2 in train_ds:\n",
    "    print(k)\n",
    "    print(k2)\n",
    "    break"
   ]
  },
  {
   "cell_type": "code",
   "execution_count": 5,
   "id": "3953fc8a",
   "metadata": {},
   "outputs": [],
   "source": [
    "class mymodel(Model):\n",
    "    def __init__(self):\n",
    "        super(mymodel, self).__init__() \n",
    "        self.conv1 = Conv2D(32, 3, activation='relu')\n",
    "        self.flatten = Flatten()\n",
    "        self.d1 = Dense(128, activation='relu')\n",
    "        self.d2 = Dense(10)\n",
    "    \n",
    "    def call(self, x):\n",
    "        x = self.conv1(x)\n",
    "        x = self.flatten(x)\n",
    "        x = self.d1(x)\n",
    "        return self.d2(x)\n",
    "    \n",
    "model = mymodel()"
   ]
  },
  {
   "cell_type": "code",
   "execution_count": null,
   "id": "a26b715d",
   "metadata": {},
   "outputs": [],
   "source": []
  },
  {
   "cell_type": "code",
   "execution_count": 6,
   "id": "61ff7775",
   "metadata": {},
   "outputs": [],
   "source": [
    "loss_func = tf.keras.losses.SparseCategoricalCrossentropy(from_logits=True)\n",
    "optimizer = tf.keras.optimizers.Adam()"
   ]
  },
  {
   "cell_type": "code",
   "execution_count": 7,
   "id": "d8233080",
   "metadata": {},
   "outputs": [],
   "source": [
    "train_loss = tf.keras.metrics.Mean(name='train_loss')\n",
    "train_accuracy = tf.keras.metrics.SparseCategoricalAccuracy(name='train_acuuracy')\n",
    "\n",
    "test_loss = tf.keras.metrics.Mean(name='test_loss')\n",
    "test_accuracy = tf.keras.metrics.SparseCategoricalAccuracy(name='test_acuuracy')"
   ]
  },
  {
   "cell_type": "code",
   "execution_count": 8,
   "id": "5e0cccfc",
   "metadata": {},
   "outputs": [],
   "source": [
    "@tf.function\n",
    "def train_step(images, labels):\n",
    "    with tf.GradientTape() as tape:\n",
    "        pred = model(images, training=True)\n",
    "        loss = loss_func(labels, pred)\n",
    "    gradients = tape.gradient(loss, model.trainable_variables)\n",
    "    optimizer.apply_gradients(zip(gradients, model.trainable_variables))\n",
    "    \n",
    "    train_loss(loss)\n",
    "    train_accuracy(labels, pred)\n"
   ]
  },
  {
   "cell_type": "code",
   "execution_count": 9,
   "id": "d966b2d1",
   "metadata": {},
   "outputs": [],
   "source": [
    "@tf.function\n",
    "def test_step(images, labels):\n",
    "    pred = model(images, training=False)\n",
    "    t_loss = loss_func(labels, pred)\n",
    "    \n",
    "    test_loss(t_loss)\n",
    "    test_accuracy(labels, pred)"
   ]
  },
  {
   "cell_type": "code",
   "execution_count": null,
   "id": "09068645",
   "metadata": {},
   "outputs": [],
   "source": []
  },
  {
   "cell_type": "code",
   "execution_count": null,
   "id": "4b3c4dff",
   "metadata": {},
   "outputs": [],
   "source": [
    "epochs = 5\n",
    "for epoch in range(epochs):\n",
    "    train_loss.reset_states()\n",
    "    train_accuracy.reset_states()\n",
    "    test_loss.reset_states()\n",
    "    test_accuracy.reset_states()\n",
    "    \n",
    "    for images, labels in train_ds:\n",
    "        train_step(images, labels)\n",
    "#     print('?')\n",
    "    for test_images, test_labels in test_ds:\n",
    "        test_step(test_images, test_labels)\n",
    "#         print('?')\n",
    "    print(\n",
    "    f'Epoch {epoch + 1}, '\n",
    "    f'Loss: {train_loss.result()}, '\n",
    "    f'Accuracy: {train_accuracy.result() * 100}, '\n",
    "    f'Test Loss: {test_loss.result()}, '\n",
    "    f'Test Accuracy: {test_accuracy.result() * 100}'\n",
    "  )"
   ]
  },
  {
   "cell_type": "code",
   "execution_count": null,
   "id": "2d813cfc",
   "metadata": {},
   "outputs": [],
   "source": []
  }
 ],
 "metadata": {
  "kernelspec": {
   "display_name": "Python 3 (ipykernel)",
   "language": "python",
   "name": "python3"
  },
  "language_info": {
   "codemirror_mode": {
    "name": "ipython",
    "version": 3
   },
   "file_extension": ".py",
   "mimetype": "text/x-python",
   "name": "python",
   "nbconvert_exporter": "python",
   "pygments_lexer": "ipython3",
   "version": "3.9.12"
  }
 },
 "nbformat": 4,
 "nbformat_minor": 5
}
